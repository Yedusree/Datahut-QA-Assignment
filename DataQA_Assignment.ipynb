{
 "cells": [
  {
   "cell_type": "markdown",
   "id": "9f4399f1-4175-4298-b039-e916678e8fdc",
   "metadata": {},
   "source": [
    "### DATA CLEANING"
   ]
  },
  {
   "cell_type": "markdown",
   "id": "41fd2cd5-fff8-4df7-82b7-e262ede2f8cf",
   "metadata": {},
   "source": [
    "### Objective"
   ]
  },
  {
   "cell_type": "markdown",
   "id": "b9cc0930-14b2-4ea0-9d4b-68455a51ce4c",
   "metadata": {},
   "source": [
    "The goal of this task is to clean the provided dataset, ensuring it is free from noise and inconsistencies, making it ready for analysis."
   ]
  },
  {
   "cell_type": "markdown",
   "id": "9593e9f9-ff19-49ce-9a2a-922ea7949d5b",
   "metadata": {},
   "source": [
    "### Data Description:"
   ]
  },
  {
   "cell_type": "markdown",
   "id": "f9b4963a-f46c-4f92-8274-2446bc9155e4",
   "metadata": {},
   "source": [
    "#### Source: Messy Dataset"
   ]
  },
  {
   "cell_type": "markdown",
   "id": "f81ecd56-facb-4578-8fab-869327be6b99",
   "metadata": {},
   "source": [
    "#### Features:"
   ]
  },
  {
   "cell_type": "markdown",
   "id": "3d3ce809-0851-4f00-9458-ad9616396b09",
   "metadata": {},
   "source": [
    "1.Unnamed 0: Index column (can be dropped)."
   ]
  },
  {
   "cell_type": "markdown",
   "id": "ffa8899c-73cf-4061-aa11-05c659924914",
   "metadata": {},
   "source": [
    "2.ID: Unique identifier for each record."
   ]
  },
  {
   "cell_type": "markdown",
   "id": "09c694cd-ea2c-4621-bc90-b46595105c1a",
   "metadata": {},
   "source": [
    "3.Name: Contains names, some of which include extra text or noise."
   ]
  },
  {
   "cell_type": "markdown",
   "id": "0d918683-7b42-4e7e-8999-7c8ff70192ad",
   "metadata": {},
   "source": [
    "4.Age: Contains missing and possibly unrealistic values."
   ]
  },
  {
   "cell_type": "markdown",
   "id": "66326933-9f70-4aa2-b2cd-a39154fa5abc",
   "metadata": {},
   "source": [
    "5.Email: Some email addresses are invalid or missing."
   ]
  },
  {
   "cell_type": "markdown",
   "id": "ed827bbc-ffc8-46ff-b73b-8fd8e8bce54d",
   "metadata": {},
   "source": [
    "6.Join Date: Contains date values, with missing and inconsistent formats.\t"
   ]
  },
  {
   "cell_type": "markdown",
   "id": "d41c5025-7d31-481b-8970-0578197ad480",
   "metadata": {},
   "source": [
    "7.Salary: Contains missing values and possible noise or outliers"
   ]
  },
  {
   "cell_type": "markdown",
   "id": "a00f616d-fcb8-41b5-8b32-fe8cf6d9a484",
   "metadata": {},
   "source": [
    "8.Department: Contains missing values and inconsistencies in department names."
   ]
  },
  {
   "cell_type": "markdown",
   "id": "14267367-2d35-43c9-a076-3abcc34c0e63",
   "metadata": {},
   "source": [
    "### Import necessary Libraries"
   ]
  },
  {
   "cell_type": "code",
   "execution_count": 1,
   "id": "1c150dbf-8d54-4c5c-acf6-fc3b1ba3370d",
   "metadata": {},
   "outputs": [],
   "source": [
    "import numpy as np\n",
    "import pandas as pd\n",
    "import re"
   ]
  },
  {
   "cell_type": "markdown",
   "id": "9e3e657e-57f6-4256-8fed-39e6a973f11d",
   "metadata": {},
   "source": [
    "### Loading the Data"
   ]
  },
  {
   "cell_type": "code",
   "execution_count": 2,
   "id": "9d4f905a-4076-4a4a-87b6-5c09e3a965c7",
   "metadata": {},
   "outputs": [],
   "source": [
    "df=pd.read_csv(r\"C:\\Users\\91963\\Downloads\\messy_data.csv\")"
   ]
  },
  {
   "cell_type": "markdown",
   "id": "409c8d77-3471-40c7-9cd5-cc0071ade184",
   "metadata": {},
   "source": [
    "### Inspecting the Data"
   ]
  },
  {
   "cell_type": "code",
   "execution_count": 3,
   "id": "55c65a3b-cd2b-4d39-b591-edad3e597a3c",
   "metadata": {},
   "outputs": [
    {
     "data": {
      "text/html": [
       "<div>\n",
       "<style scoped>\n",
       "    .dataframe tbody tr th:only-of-type {\n",
       "        vertical-align: middle;\n",
       "    }\n",
       "\n",
       "    .dataframe tbody tr th {\n",
       "        vertical-align: top;\n",
       "    }\n",
       "\n",
       "    .dataframe thead th {\n",
       "        text-align: right;\n",
       "    }\n",
       "</style>\n",
       "<table border=\"1\" class=\"dataframe\">\n",
       "  <thead>\n",
       "    <tr style=\"text-align: right;\">\n",
       "      <th></th>\n",
       "      <th>Unnamed: 0</th>\n",
       "      <th>ID</th>\n",
       "      <th>Name</th>\n",
       "      <th>Age</th>\n",
       "      <th>Email</th>\n",
       "      <th>Join Date</th>\n",
       "      <th>Salary</th>\n",
       "      <th>Department</th>\n",
       "    </tr>\n",
       "  </thead>\n",
       "  <tbody>\n",
       "    <tr>\n",
       "      <th>0</th>\n",
       "      <td>0</td>\n",
       "      <td>1e407ff9-6255-489d-a0de-34135d4f74bd</td>\n",
       "      <td>Hunter Thomas</td>\n",
       "      <td>25.0</td>\n",
       "      <td>xlopez@hotmail.com</td>\n",
       "      <td>NaN</td>\n",
       "      <td>88552.0</td>\n",
       "      <td>Sales</td>\n",
       "    </tr>\n",
       "    <tr>\n",
       "      <th>1</th>\n",
       "      <td>1</td>\n",
       "      <td>379f55b8-87d5-4739-a146-7400b78c24d1</td>\n",
       "      <td>Jeremy Irwin</td>\n",
       "      <td>90.0</td>\n",
       "      <td>Jillian Jenkins</td>\n",
       "      <td>2022-07-07</td>\n",
       "      <td>139227.0</td>\n",
       "      <td>NaN</td>\n",
       "    </tr>\n",
       "    <tr>\n",
       "      <th>2</th>\n",
       "      <td>2</td>\n",
       "      <td>18261368-dfa1-47f0-afc6-bddf45926b07</td>\n",
       "      <td>Jennifer Hammondquickly</td>\n",
       "      <td>66.0</td>\n",
       "      <td>jscottgreen.biz</td>\n",
       "      <td>2023-11-21</td>\n",
       "      <td>65550.0</td>\n",
       "      <td>Engineering</td>\n",
       "    </tr>\n",
       "    <tr>\n",
       "      <th>3</th>\n",
       "      <td>3</td>\n",
       "      <td>ae7cf7cf-17cf-4c8b-9c44-4f61a9a238e5</td>\n",
       "      <td>Sydney Taylorso</td>\n",
       "      <td>39.0</td>\n",
       "      <td>luke56gonzalez.com</td>\n",
       "      <td>2021-11-05</td>\n",
       "      <td>139932.0</td>\n",
       "      <td>SupportJ</td>\n",
       "    </tr>\n",
       "    <tr>\n",
       "      <th>4</th>\n",
       "      <td>4</td>\n",
       "      <td>14ed3e6a-e0f5-4bbe-8d93-8665267f5c90</td>\n",
       "      <td>Julia Lee</td>\n",
       "      <td>71.0</td>\n",
       "      <td>figueroakayla@yahoo.com</td>\n",
       "      <td>NaN</td>\n",
       "      <td>143456.0</td>\n",
       "      <td>Marketing</td>\n",
       "    </tr>\n",
       "  </tbody>\n",
       "</table>\n",
       "</div>"
      ],
      "text/plain": [
       "   Unnamed: 0                                    ID                     Name  \\\n",
       "0           0  1e407ff9-6255-489d-a0de-34135d4f74bd            Hunter Thomas   \n",
       "1           1  379f55b8-87d5-4739-a146-7400b78c24d1             Jeremy Irwin   \n",
       "2           2  18261368-dfa1-47f0-afc6-bddf45926b07  Jennifer Hammondquickly   \n",
       "3           3  ae7cf7cf-17cf-4c8b-9c44-4f61a9a238e5          Sydney Taylorso   \n",
       "4           4  14ed3e6a-e0f5-4bbe-8d93-8665267f5c90                Julia Lee   \n",
       "\n",
       "    Age                    Email   Join Date    Salary   Department  \n",
       "0  25.0       xlopez@hotmail.com         NaN   88552.0        Sales  \n",
       "1  90.0          Jillian Jenkins  2022-07-07  139227.0          NaN  \n",
       "2  66.0          jscottgreen.biz  2023-11-21   65550.0  Engineering  \n",
       "3  39.0       luke56gonzalez.com  2021-11-05  139932.0     SupportJ  \n",
       "4  71.0  figueroakayla@yahoo.com         NaN  143456.0    Marketing  "
      ]
     },
     "execution_count": 3,
     "metadata": {},
     "output_type": "execute_result"
    }
   ],
   "source": [
    "# Display the first few rows of the dataset\n",
    "df.head()"
   ]
  },
  {
   "cell_type": "code",
   "execution_count": 4,
   "id": "931c1d48-7037-4f86-9cf2-4189e1ed02ee",
   "metadata": {},
   "outputs": [],
   "source": [
    "# Drop the column named 'Unnamed: 0'\n",
    "df = df.drop(columns=['Unnamed: 0'])"
   ]
  },
  {
   "cell_type": "code",
   "execution_count": 5,
   "id": "6bf409cd-bc07-446b-9b2e-39e5f97f1e32",
   "metadata": {},
   "outputs": [
    {
     "data": {
      "text/plain": [
       "(11000, 7)"
      ]
     },
     "execution_count": 5,
     "metadata": {},
     "output_type": "execute_result"
    }
   ],
   "source": [
    "# Size of the DataFrame\n",
    "df.shape"
   ]
  },
  {
   "cell_type": "code",
   "execution_count": 6,
   "id": "37e616a3-9b83-4602-86a2-fea496874319",
   "metadata": {},
   "outputs": [
    {
     "name": "stdout",
     "output_type": "stream",
     "text": [
      "<class 'pandas.core.frame.DataFrame'>\n",
      "RangeIndex: 11000 entries, 0 to 10999\n",
      "Data columns (total 7 columns):\n",
      " #   Column      Non-Null Count  Dtype  \n",
      "---  ------      --------------  -----  \n",
      " 0   ID          11000 non-null  object \n",
      " 1   Name        8667 non-null   object \n",
      " 2   Age         9253 non-null   float64\n",
      " 3   Email       9731 non-null   object \n",
      " 4   Join Date   8808 non-null   object \n",
      " 5   Salary      8761 non-null   float64\n",
      " 6   Department  8745 non-null   object \n",
      "dtypes: float64(2), object(5)\n",
      "memory usage: 601.7+ KB\n"
     ]
    }
   ],
   "source": [
    "# Get the DataFrame information\n",
    "df.info()"
   ]
  },
  {
   "cell_type": "code",
   "execution_count": 7,
   "id": "8301aa61-1a96-4057-996f-c6eedf375523",
   "metadata": {},
   "outputs": [
    {
     "data": {
      "text/html": [
       "<div>\n",
       "<style scoped>\n",
       "    .dataframe tbody tr th:only-of-type {\n",
       "        vertical-align: middle;\n",
       "    }\n",
       "\n",
       "    .dataframe tbody tr th {\n",
       "        vertical-align: top;\n",
       "    }\n",
       "\n",
       "    .dataframe thead th {\n",
       "        text-align: right;\n",
       "    }\n",
       "</style>\n",
       "<table border=\"1\" class=\"dataframe\">\n",
       "  <thead>\n",
       "    <tr style=\"text-align: right;\">\n",
       "      <th></th>\n",
       "      <th>Age</th>\n",
       "      <th>Salary</th>\n",
       "    </tr>\n",
       "  </thead>\n",
       "  <tbody>\n",
       "    <tr>\n",
       "      <th>count</th>\n",
       "      <td>9253.000000</td>\n",
       "      <td>8761.000000</td>\n",
       "    </tr>\n",
       "    <tr>\n",
       "      <th>mean</th>\n",
       "      <td>54.162650</td>\n",
       "      <td>89886.585012</td>\n",
       "    </tr>\n",
       "    <tr>\n",
       "      <th>std</th>\n",
       "      <td>21.072919</td>\n",
       "      <td>34896.320117</td>\n",
       "    </tr>\n",
       "    <tr>\n",
       "      <th>min</th>\n",
       "      <td>18.000000</td>\n",
       "      <td>24655.136613</td>\n",
       "    </tr>\n",
       "    <tr>\n",
       "      <th>25%</th>\n",
       "      <td>36.000000</td>\n",
       "      <td>59723.844874</td>\n",
       "    </tr>\n",
       "    <tr>\n",
       "      <th>50%</th>\n",
       "      <td>54.000000</td>\n",
       "      <td>89241.000000</td>\n",
       "    </tr>\n",
       "    <tr>\n",
       "      <th>75%</th>\n",
       "      <td>72.000000</td>\n",
       "      <td>119491.000000</td>\n",
       "    </tr>\n",
       "    <tr>\n",
       "      <th>max</th>\n",
       "      <td>90.000000</td>\n",
       "      <td>176156.206747</td>\n",
       "    </tr>\n",
       "  </tbody>\n",
       "</table>\n",
       "</div>"
      ],
      "text/plain": [
       "               Age         Salary\n",
       "count  9253.000000    8761.000000\n",
       "mean     54.162650   89886.585012\n",
       "std      21.072919   34896.320117\n",
       "min      18.000000   24655.136613\n",
       "25%      36.000000   59723.844874\n",
       "50%      54.000000   89241.000000\n",
       "75%      72.000000  119491.000000\n",
       "max      90.000000  176156.206747"
      ]
     },
     "execution_count": 7,
     "metadata": {},
     "output_type": "execute_result"
    }
   ],
   "source": [
    "# Generate descriptive statistics\n",
    "df.describe()"
   ]
  },
  {
   "cell_type": "markdown",
   "id": "07a05807-9846-4fd7-a607-a4328dfa4f80",
   "metadata": {},
   "source": [
    "#### Record Data Quality Issues"
   ]
  },
  {
   "cell_type": "code",
   "execution_count": 8,
   "id": "fa9bfe10-c728-4ee9-a426-c86c8b5475aa",
   "metadata": {},
   "outputs": [
    {
     "data": {
      "text/plain": [
       "291"
      ]
     },
     "execution_count": 8,
     "metadata": {},
     "output_type": "execute_result"
    }
   ],
   "source": [
    "# Checking for duplicates \n",
    "df.duplicated().sum()"
   ]
  },
  {
   "cell_type": "code",
   "execution_count": 9,
   "id": "3f9d24b3-a1cb-4144-b8f5-798bec64d145",
   "metadata": {},
   "outputs": [],
   "source": [
    "# Delete duplicates \n",
    "df = df.drop_duplicates()"
   ]
  },
  {
   "cell_type": "code",
   "execution_count": 10,
   "id": "82dfc23b-16e0-477d-87bb-74bcaeb35f11",
   "metadata": {},
   "outputs": [
    {
     "data": {
      "text/plain": [
       "ID             object\n",
       "Name           object\n",
       "Age           float64\n",
       "Email          object\n",
       "Join Date      object\n",
       "Salary        float64\n",
       "Department     object\n",
       "dtype: object"
      ]
     },
     "execution_count": 10,
     "metadata": {},
     "output_type": "execute_result"
    }
   ],
   "source": [
    "df.dtypes"
   ]
  },
  {
   "cell_type": "code",
   "execution_count": 11,
   "id": "64881940-7e40-4375-80ae-65d8c2a8bf8b",
   "metadata": {},
   "outputs": [],
   "source": [
    "# converting data type \n",
    "df['Join Date'] = pd.to_datetime(df['Join Date'], dayfirst=True, errors='coerce')"
   ]
  },
  {
   "cell_type": "code",
   "execution_count": 12,
   "id": "63bb8796-992a-4db1-a743-7c5284834632",
   "metadata": {},
   "outputs": [
    {
     "data": {
      "text/plain": [
       "ID               0\n",
       "Name          2130\n",
       "Age           1564\n",
       "Email         1092\n",
       "Join Date     7973\n",
       "Salary        2048\n",
       "Department    2062\n",
       "dtype: int64"
      ]
     },
     "execution_count": 12,
     "metadata": {},
     "output_type": "execute_result"
    }
   ],
   "source": [
    "#Checking for missing values\n",
    "df.isnull().sum()"
   ]
  },
  {
   "cell_type": "markdown",
   "id": "fe6875e3-a414-423e-9069-1b4cc0b93bfe",
   "metadata": {},
   "source": [
    "#### Handle Missing Values"
   ]
  },
  {
   "cell_type": "code",
   "execution_count": 13,
   "id": "695d268c-e202-49a0-adb2-9eb5cda3d89c",
   "metadata": {},
   "outputs": [],
   "source": [
    "#Name\n",
    "df['Name'] = df['Name'].fillna('Unknown')"
   ]
  },
  {
   "cell_type": "code",
   "execution_count": 14,
   "id": "c92a1915-faf0-49af-b91c-cfa1509c6984",
   "metadata": {},
   "outputs": [
    {
     "data": {
      "text/plain": [
       "0        25.0\n",
       "1        90.0\n",
       "2        66.0\n",
       "3        39.0\n",
       "4        71.0\n",
       "         ... \n",
       "10993    79.0\n",
       "10994    29.0\n",
       "10996    38.0\n",
       "10997    54.0\n",
       "10998    37.0\n",
       "Name: Age, Length: 10709, dtype: float64"
      ]
     },
     "execution_count": 14,
     "metadata": {},
     "output_type": "execute_result"
    }
   ],
   "source": [
    "#Age\n",
    "median_age = df['Age'].median()\n",
    "df['Age'].fillna(median_age)"
   ]
  },
  {
   "cell_type": "code",
   "execution_count": 15,
   "id": "76830068-e6d9-4f76-8061-6adccd728c77",
   "metadata": {},
   "outputs": [
    {
     "data": {
      "text/plain": [
       "0               xlopez@hotmail.com\n",
       "1                  Jillian Jenkins\n",
       "2                  jscottgreen.biz\n",
       "3               luke56gonzalez.com\n",
       "4          figueroakayla@yahoo.com\n",
       "                   ...            \n",
       "10993               Michael Walker\n",
       "10994      cheryllewis@hotmail.com\n",
       "10996             molly89gmail.com\n",
       "10997    robert96@pollard-frye.com\n",
       "10998           roypark@warren.net\n",
       "Name: Email, Length: 10709, dtype: object"
      ]
     },
     "execution_count": 15,
     "metadata": {},
     "output_type": "execute_result"
    }
   ],
   "source": [
    "# Email\n",
    "df['Email'].fillna('Unknown')"
   ]
  },
  {
   "cell_type": "code",
   "execution_count": 16,
   "id": "b4a49067-1343-4d21-afa3-e77964827450",
   "metadata": {},
   "outputs": [
    {
     "data": {
      "text/plain": [
       "0       2021-05-02\n",
       "1       2022-07-07\n",
       "2       2021-05-02\n",
       "3       2021-05-11\n",
       "4       2021-05-02\n",
       "           ...    \n",
       "10993   2021-05-02\n",
       "10994   2021-05-02\n",
       "10996   2021-05-02\n",
       "10997   2021-05-02\n",
       "10998   2020-09-10\n",
       "Name: Join Date, Length: 10709, dtype: datetime64[ns]"
      ]
     },
     "execution_count": 16,
     "metadata": {},
     "output_type": "execute_result"
    }
   ],
   "source": [
    "#Join Date\n",
    "mode_join_date = df['Join Date'].mode()[0]\n",
    "df['Join Date'].fillna(mode_join_date)"
   ]
  },
  {
   "cell_type": "code",
   "execution_count": 17,
   "id": "7b5c16d9-a6e7-46d3-a9a6-ea8cd6f648aa",
   "metadata": {},
   "outputs": [
    {
     "data": {
      "text/plain": [
       "0         88552.000000\n",
       "1        139227.000000\n",
       "2         65550.000000\n",
       "3        139932.000000\n",
       "4        143456.000000\n",
       "             ...      \n",
       "10993     47809.000000\n",
       "10994    147555.000000\n",
       "10996     89168.000000\n",
       "10997    122609.594149\n",
       "10998    147322.005171\n",
       "Name: Salary, Length: 10709, dtype: float64"
      ]
     },
     "execution_count": 17,
     "metadata": {},
     "output_type": "execute_result"
    }
   ],
   "source": [
    "#salary\n",
    "median_salary = df['Salary'].median()\n",
    "df['Salary'].fillna(median_salary)"
   ]
  },
  {
   "cell_type": "code",
   "execution_count": 18,
   "id": "64b23420-a8dc-48de-9882-95c06646d030",
   "metadata": {},
   "outputs": [
    {
     "data": {
      "text/plain": [
       "0              Sales\n",
       "1            Unknown\n",
       "2        Engineering\n",
       "3           SupportJ\n",
       "4          Marketing\n",
       "            ...     \n",
       "10993             HR\n",
       "10994    Engineering\n",
       "10996          Sales\n",
       "10997             HR\n",
       "10998        Support\n",
       "Name: Department, Length: 10709, dtype: object"
      ]
     },
     "execution_count": 18,
     "metadata": {},
     "output_type": "execute_result"
    }
   ],
   "source": [
    "#Department\n",
    "df['Department'].fillna('Unknown')"
   ]
  },
  {
   "cell_type": "markdown",
   "id": "d439d62b-ba1e-4243-8962-f1358783049d",
   "metadata": {},
   "source": [
    "#### Correct Email Formats"
   ]
  },
  {
   "cell_type": "code",
   "execution_count": 19,
   "id": "b873263a-ea6e-4184-8b97-e258b1fb57fc",
   "metadata": {},
   "outputs": [],
   "source": [
    "# Define regex for valid email format\n",
    "email_pattern = r'^[a-zA-Z0-9_.+-]+@[a-zA-Z0-9-]+\\.[a-zA-Z0-9-.]+$'"
   ]
  },
  {
   "cell_type": "code",
   "execution_count": 20,
   "id": "cdab64ed-298b-4ea2-a6e1-7bb4091e149d",
   "metadata": {},
   "outputs": [],
   "source": [
    "# Filter out invalid emails, handle non-string (e.g. NaN) values\n",
    "df = df[df['Email'].apply(lambda x: isinstance(x, str) and re.match(email_pattern, x) is not None)]"
   ]
  },
  {
   "cell_type": "markdown",
   "id": "03fcecb8-4b28-4c91-aeda-73ad5ebf3904",
   "metadata": {},
   "source": [
    "####  Clean Name Fields"
   ]
  },
  {
   "cell_type": "code",
   "execution_count": 21,
   "id": "dc013bff-2ab3-4e2c-8076-759b737e2b3d",
   "metadata": {},
   "outputs": [],
   "source": [
    "# Remove noise from names (e.g., extra words or characters)\n",
    "df['Name'] = df['Name'].str.replace(r'[^a-zA-Z\\s]', '', regex=True).str.strip().str.title()"
   ]
  },
  {
   "cell_type": "markdown",
   "id": "39aa6f8b-59f4-4db0-b3a2-4a311dafe5a1",
   "metadata": {},
   "source": [
    "#### Standardize Date Formats"
   ]
  },
  {
   "cell_type": "code",
   "execution_count": 22,
   "id": "1e0946d2-1c47-4524-85fb-0a10d1242be4",
   "metadata": {},
   "outputs": [],
   "source": [
    "# Convert 'Join Date' to YYYY-MM-DD format\n",
    "df['Join Date'] = pd.to_datetime(df['Join Date']).dt.strftime('%Y-%m-%d')"
   ]
  },
  {
   "cell_type": "markdown",
   "id": "019a13f6-b050-428e-b784-95bd27401e5e",
   "metadata": {},
   "source": [
    "#### Correct Department Names"
   ]
  },
  {
   "cell_type": "code",
   "execution_count": 23,
   "id": "7d2a9fb4-f5e2-4acb-80cd-9f7813ff6806",
   "metadata": {},
   "outputs": [
    {
     "data": {
      "text/plain": [
       "array(['Sales', 'Marketing', 'SupportE', 'HR', 'Engineering', 'SalesA',\n",
       "       'SalesX', 'Engineeringi', 'MarketingR', 'Salesw', 'SalesK',\n",
       "       'MarketingU', nan, 'Support', 'Supporty', 'Marketinge',\n",
       "       'Marketingv', 'HRv', 'SalesM', 'EngineeringL', 'MarketingQ', 'HRs',\n",
       "       'Supportj', 'Salesd', 'Marketingu', 'SalesU', 'MarketingH',\n",
       "       'Salesj', 'Saleso', 'SalesZ', 'Engineeringe', 'Marketingr',\n",
       "       'Engineeringm', 'HRt', 'SalesW', 'Engineeringp', 'HRF', 'SalesC',\n",
       "       'SupportC', 'SalesY', 'EngineeringK', 'Marketingz', 'SalesN',\n",
       "       'HRo', 'SupportB', 'HRi', 'Salest', 'Supportg', 'Supporta', 'HRn',\n",
       "       'SupportQ', 'Supportm', 'Supporto', 'EngineeringH', 'Marketingw',\n",
       "       'EngineeringM', 'Supportz', 'HRr', 'Salesy', 'MarketingD', 'HRE',\n",
       "       'Supportu', 'Marketingm', 'HRw', 'Supportk', 'MarketingN',\n",
       "       'SupportS', 'EngineeringD', 'Marketingp', 'Salesl', 'Salesr',\n",
       "       'SupportT', 'Engineeringn', 'MarketingO', 'SalesF', 'Salesz',\n",
       "       'Marketingt', 'Engineeringv', 'HRL', 'HRI', 'HRW', 'EngineeringR',\n",
       "       'HRD', 'Marketingk', 'Salese', 'Saless', 'Salesn', 'Engineeringl',\n",
       "       'SalesE', 'HRy', 'SalesD', 'HRm', 'HRz', 'MarketingG',\n",
       "       'Marketingn', 'SalesI', 'Salesu', 'Engineeringg', 'MarketingE',\n",
       "       'SupportA', 'Engineeringq', 'EngineeringQ', 'EngineeringA',\n",
       "       'Supporte', 'Engineeringu', 'EngineeringO', 'Supportv', 'HRK',\n",
       "       'Engineeringb', 'SalesV', 'HRT', 'SupportY', 'MarketingX',\n",
       "       'Supportp', 'HRU', 'HRp', 'HRg', 'SalesS', 'Marketingl',\n",
       "       'Engineeringt', 'SalesJ', 'EngineeringX', 'Engineeringc',\n",
       "       'Marketingh', 'MarketingF', 'EngineeringC', 'Engineeringz', 'HRP',\n",
       "       'Salesv', 'Engineeringk', 'SupportH', 'Salesk', 'Supporth',\n",
       "       'Supportq', 'Salesi', 'HRJ', 'Supportd', 'HRZ', 'SupportJ',\n",
       "       'MarketingZ', 'Salesc', 'EngineeringJ', 'Engineeringx',\n",
       "       'EngineeringT', 'Salesq', 'Engineeringh', 'Supportl', 'SupportX',\n",
       "       'EngineeringG', 'SalesH', 'MarketingC', 'SupportV', 'HRq',\n",
       "       'Marketingb', 'Supporti', 'SupportL', 'HRM', 'Supportt', 'HRX',\n",
       "       'EngineeringE', 'EngineeringF', 'SupportP', 'HRf', 'MarketingB',\n",
       "       'Engineeringf', 'HRB', 'Marketinga', 'HRj', 'SupportI', 'HRA',\n",
       "       'Marketingj', 'MarketingV', 'EngineeringZ', 'HRl', 'Marketingx',\n",
       "       'Engineeringj', 'HRN', 'MarketingJ', 'Marketingi', 'Supportw',\n",
       "       'HRh', 'Engineerings', 'Supportb', 'Engineeringa', 'SalesB',\n",
       "       'SalesO', 'Marketingf', 'Marketingg', 'SupportK', 'Engineeringd',\n",
       "       'HRk', 'Marketingd', 'SalesR', 'MarketingS', 'MarketingL',\n",
       "       'MarketingT', 'HRR', 'Engineeringw', 'Salesg', 'SupportO',\n",
       "       'EngineeringV', 'HRb', 'SupportN', 'SupportG', 'Marketingc',\n",
       "       'Supportn', 'EngineeringU', 'Supportx', 'HRY', 'Salesp', 'HRH',\n",
       "       'MarketingK', 'SalesL', 'Marketingq', 'SupportD', 'SalesT',\n",
       "       'Supports', 'HRQ', 'Supportr', 'Engineeringr', 'EngineeringW',\n",
       "       'Salesm', 'HRC', 'SupportF', 'HRe', 'SupportW', 'EngineeringI',\n",
       "       'Marketingy', 'MarketingM', 'MarketingI', 'SupportU', 'Salesa',\n",
       "       'Salesf', 'MarketingY', 'Supportf', 'HRd', 'HRu', 'Salesh',\n",
       "       'EngineeringB', 'SupportM', 'EngineeringN', 'HRV', 'HRa', 'HRG',\n",
       "       'SalesP', 'Supportc', 'HRx', 'EngineeringS', 'EngineeringP',\n",
       "       'Engineeringy', 'HRS', 'SupportR', 'Salesx', 'Marketings',\n",
       "       'MarketingW', 'HRO', 'HRc', 'SupportZ', 'SalesG', 'SalesQ',\n",
       "       'Salesb', 'MarketingP', 'Engineeringo'], dtype=object)"
      ]
     },
     "execution_count": 23,
     "metadata": {},
     "output_type": "execute_result"
    }
   ],
   "source": [
    "# Get all unique department names\n",
    "unique_departments = df['Department'].unique()\n",
    "unique_departments"
   ]
  },
  {
   "cell_type": "code",
   "execution_count": 24,
   "id": "d3122cf9-e869-4997-859a-430e48d7358b",
   "metadata": {},
   "outputs": [],
   "source": [
    "# Create a dictionary mapping incorrect department names to the correct ones\n",
    "department_mapping = {\n",
    "    # HR variations\n",
    "    'HRv': 'HR', 'HRs': 'HR', 'HRt': 'HR', 'HRF': 'HR', 'HRo': 'HR',\n",
    "    'HRi': 'HR', 'HRn': 'HR', 'HRr': 'HR', 'HRE': 'HR', 'HRw': 'HR',\n",
    "    'HRp': 'HR', 'HRm': 'HR', 'HRz': 'HR', 'HRy': 'HR', 'HRK': 'HR',\n",
    "    'HRP': 'HR', 'HRJ': 'HR', 'HRZ': 'HR', 'HRL': 'HR', 'HRI': 'HR',\n",
    "    'HRW': 'HR', 'HRD': 'HR', 'HRq': 'HR', 'HRM': 'HR', 'HRX': 'HR',\n",
    "    'HRf': 'HR', 'HRB': 'HR', 'HRj': 'HR', 'HRA': 'HR', 'HRl': 'HR',\n",
    "    'HRN': 'HR', 'HRh': 'HR', 'HRk': 'HR', 'HRR': 'HR', 'HRY': 'HR',\n",
    "    'HRH': 'HR', 'HRQ': 'HR', 'HRC': 'HR', 'HRe': 'HR', 'HRV': 'HR',\n",
    "    'HRa': 'HR', 'HRG': 'HR', 'HRx': 'HR', 'HRS': 'HR', 'HRO': 'HR',\n",
    "    'HRc': 'HR', 'HRT': 'HR', 'HRU': 'HR', 'HRg': 'HR', 'HRb':'HR',\n",
    "    'HRd': 'HR', 'HRu': 'HR',\n",
    "    \n",
    "    # Engineering variations\n",
    "    'Engineeringi': 'Engineering', 'EngineeringL': 'Engineering', 'Engineeringe': 'Engineering',\n",
    "    'Engineeringm': 'Engineering', 'Engineeringp': 'Engineering', 'EngineeringK': 'Engineering',\n",
    "    'EngineeringR': 'Engineering', 'Engineeringl': 'Engineering', 'Engineeringg': 'Engineering',\n",
    "    'Engineeringq': 'Engineering', 'EngineeringO': 'Engineering', 'Engineeringb': 'Engineering',\n",
    "    'Engineeringk': 'Engineering', 'Engineeringc': 'Engineering', 'Engineeringx': 'Engineering',\n",
    "    'EngineeringT': 'Engineering', 'Engineeringh': 'Engineering', 'EngineeringG': 'Engineering',\n",
    "    'EngineeringA': 'Engineering', 'Engineeringw': 'Engineering', 'EngineeringV': 'Engineering',\n",
    "    'EngineeringD': 'Engineering', 'Engineeringn': 'Engineering', 'Engineeringf': 'Engineering',\n",
    "    'EngineeringE': 'Engineering', 'EngineeringF': 'Engineering', 'EngineeringP': 'Engineering',\n",
    "    'Engineeringy': 'Engineering', 'Engineerings': 'Engineering', 'Engineeringa': 'Engineering',\n",
    "    'Engineeringd': 'Engineering', 'EngineeringS': 'Engineering', 'EngineeringU': 'Engineering',\n",
    "    'EngineeringN': 'Engineering', 'EngineeringB': 'Engineering', 'EngineeringJ': 'Engineering',\n",
    "    'EngineeringZ': 'Engineering', 'Engineeringr': 'Engineering', 'EngineeringW': 'Engineering',\n",
    "    'EngineeringI': 'Engineering', 'EngineeringM': 'Engineering', 'Engineeringu': 'Engineering',\n",
    "    'EngineeringH': 'Engineering', 'Engineeringv': 'Engineering', 'EngineeringQ': 'Engineering',\n",
    "    'Engineeringt': 'Engineering', 'EngineeringX': 'Engineering',  'EngineeringC': 'Engineering', \n",
    "    'Engineeringz': 'Engineering', 'Engineeringo': 'Engineering', 'Engineeringj': 'Engineering', \n",
    "    \n",
    "    # Marketing variations\n",
    "    'MarketingR': 'Marketing', 'MarketingU': 'Marketing', 'Marketinge': 'Marketing',\n",
    "    'Marketingv': 'Marketing', 'Marketingu': 'Marketing', 'MarketingH': 'Marketing',\n",
    "    'MarketingQ': 'Marketing', 'Marketingr': 'Marketing', 'Marketingz': 'Marketing',\n",
    "    'Marketingk': 'Marketing', 'Marketingn': 'Marketing', 'Marketingt': 'Marketing',\n",
    "    'MarketingE': 'Marketing', 'Marketingw': 'Marketing', 'Marketingp': 'Marketing',\n",
    "    'Marketingm': 'Marketing', 'Marketingy': 'Marketing', 'MarketingD': 'Marketing',\n",
    "    'Marketingl': 'Marketing', 'MarketingX': 'Marketing', 'MarketingB': 'Marketing',\n",
    "    'MarketingG': 'Marketing', 'Marketinga': 'Marketing', 'MarketingJ': 'Marketing',\n",
    "    'MarketingI': 'Marketing', 'MarketingV': 'Marketing', 'Marketingx': 'Marketing',\n",
    "    'MarketingO': 'Marketing', 'MarketingL': 'Marketing', 'MarketingP': 'Marketing',\n",
    "    'MarketingS': 'Marketing', 'MarketingT': 'Marketing', 'MarketingY': 'Marketing',\n",
    "    'Marketingf': 'Marketing', 'Marketingg': 'Marketing', 'MarketingK': 'Marketing',\n",
    "    'MarketingC': 'Marketing', 'Marketingq': 'Marketing', 'MarketingN': 'Marketing',\n",
    "    'Marketings': 'Marketing', 'MarketingW': 'Marketing', 'Marketingh': 'Marketing',\n",
    "    'MarketingF': 'Marketing', 'MarketingZ': 'Marketing', 'Marketingr': 'Marketing',\n",
    "    'Marketingb': 'Marketing','Marketingj': 'Marketing', 'Marketingi': 'Marketing',\n",
    "    'Marketingd': 'Marketing', 'Marketingc': 'Marketing', 'MarketingM': 'Marketing',\n",
    "    \n",
    "    # Sales variations\n",
    "    'SalesA': 'Sales', 'SalesX': 'Sales', 'Salesw': 'Sales', 'SalesK': 'Sales',\n",
    "    'SalesM': 'Sales', 'Salesd': 'Sales', 'SalesU': 'Sales', 'Salesj': 'Sales',\n",
    "    'Saleso': 'Sales', 'SalesZ': 'Sales', 'Salesy': 'Sales', 'SalesE': 'Sales',\n",
    "    'SalesD': 'Sales', 'Salesn': 'Sales', 'Salesu': 'Sales', 'SalesI': 'Sales',\n",
    "    'Salesv': 'Sales', 'Salesk': 'Sales', 'Salesq': 'Sales', 'Salesr': 'Sales',\n",
    "    'Salesl': 'Sales', 'SalesJ': 'Sales', 'SalesH': 'Sales', 'Salesg': 'Sales',\n",
    "    'SalesR': 'Sales', 'SalesS': 'Sales', 'SalesT': 'Sales', 'SalesP': 'Sales',\n",
    "    'Salesm': 'Sales', 'Salesa': 'Sales', 'Salesf': 'Sales', 'Salesb': 'Sales',\n",
    "    'SalesQ': 'Sales', 'SalesG': 'Sales', 'SalesB': 'Sales', 'SalesO': 'Sales',\n",
    "    'SalesF': 'Sales', 'Salesz': 'Sales', 'SalesV': 'Sales', 'Salesx': 'Sales',\n",
    "    'Salesc': 'Sales', 'Saless': 'Sales', 'Salese': 'Sales', 'Salest': 'Sales',\n",
    "    'SalesW': 'Sales','SalesC': 'Sales', 'SalesY': 'Sales', 'SalesN': 'Sales',\n",
    "    'Salesp': 'Sales', 'SalesL': 'Sales', 'Salesh': 'Sales','Salesi': 'Sales',\n",
    "\n",
    "    # Support variations\n",
    "    'SupportE': 'Support', 'Supporty': 'Support', 'Supportj': 'Support', 'Supportm': 'Support',\n",
    "    'Supporto': 'Support', 'Supportz': 'Support', 'Supportu': 'Support', 'Supportk': 'Support',\n",
    "    'Supportl': 'Support', 'SupportH': 'Support', 'Supportp': 'Support', 'Supportv': 'Support',\n",
    "    'SupportC': 'Support', 'SupportQ': 'Support', 'SupportS': 'Support', 'SupportT': 'Support',\n",
    "    'Supportd': 'Support', 'SupportI': 'Support', 'SupportA': 'Support', 'SupportD': 'Support',\n",
    "    'SupportM': 'Support', 'Supportb': 'Support', 'SupportW': 'Support', 'SupportX': 'Support',\n",
    "    'SupportL': 'Support', 'SupportN': 'Support', 'SupportG': 'Support', 'SupportV': 'Support',\n",
    "    'Supporti': 'Support', 'Supportc': 'Support', 'Supportn': 'Support', 'SupportF': 'Support',\n",
    "    'SupportR': 'Support', 'Supports': 'Support', 'Supportr': 'Support', 'Supportw': 'Support',\n",
    "    'SupportB': 'Support', 'Supportk': 'Support', 'Supporth': 'Support', 'Supportg': 'Support',\n",
    "    'Supporta': 'Support', 'SupportK': 'Support', 'Supportz': 'Support', 'SupportU': 'Support', \n",
    "    'Supportf': 'Support', 'SupportZ': 'Support','Supportx': 'Support', 'SupportO': 'Support',\n",
    "    'SupportP': 'Support', 'Supportt': 'Support','SupportJ': 'Support','SupportY': 'Support',\n",
    "    'Supportq': 'Support','Supporte': 'Support'\n",
    "}"
   ]
  },
  {
   "cell_type": "code",
   "execution_count": 25,
   "id": "9c84a6e0-39b5-41f7-8f2d-5bdf0d1eb726",
   "metadata": {},
   "outputs": [],
   "source": [
    "df['Department'] = df['Department'].replace(department_mapping)"
   ]
  },
  {
   "cell_type": "code",
   "execution_count": 26,
   "id": "be4867c4-e6a9-4c4e-8f55-6975db037585",
   "metadata": {},
   "outputs": [
    {
     "name": "stdout",
     "output_type": "stream",
     "text": [
      "['Sales' 'Marketing' 'Support' 'HR' 'Engineering' nan]\n"
     ]
    }
   ],
   "source": [
    "unique_dept = df['Department'].unique()\n",
    "print(unique_dept)"
   ]
  },
  {
   "cell_type": "markdown",
   "id": "883a2c89-9351-4317-9dd5-1178650c9617",
   "metadata": {},
   "source": [
    "####  Handle Salary Noise"
   ]
  },
  {
   "cell_type": "code",
   "execution_count": 27,
   "id": "083ce1a5-8766-4ba7-9e59-92e662ea2479",
   "metadata": {},
   "outputs": [],
   "source": [
    "df['Salary'] = df['Salary'].clip(lower=20000, upper=200000)"
   ]
  },
  {
   "cell_type": "markdown",
   "id": "c4b6a28f-dc55-4758-998d-5c8fb3e3a85c",
   "metadata": {},
   "source": [
    "##### Outlier Detection in Salary and age column"
   ]
  },
  {
   "cell_type": "code",
   "execution_count": 28,
   "id": "a1155daa-9e0e-4213-bc6b-4a13792c3e6b",
   "metadata": {},
   "outputs": [
    {
     "name": "stdout",
     "output_type": "stream",
     "text": [
      "Age has 0 outliers.\n",
      "Salary has 0 outliers.\n"
     ]
    }
   ],
   "source": [
    "def find_outliers(data, column):\n",
    "    Q1 = df[column].quantile(0.25)\n",
    "    Q3 = df[column].quantile(0.75)\n",
    "    IQR = Q3 - Q1\n",
    "    lower_bound = Q1 - 1.5 * IQR\n",
    "    upper_bound = Q3 + 1.5 * IQR\n",
    "    outliers = df[(df[column] < lower_bound) | (df[column] > upper_bound)]\n",
    "    return outliers\n",
    "\n",
    "for column in df.select_dtypes(include=[np.number]).columns:\n",
    "    outliers = find_outliers(df, column)\n",
    "    print(f\"{column} has {len(outliers)} outliers.\")"
   ]
  },
  {
   "cell_type": "markdown",
   "id": "756632ab-ae0c-4601-acf5-9cb470ca80bf",
   "metadata": {},
   "source": [
    "#### Save the Cleaned Dataset"
   ]
  },
  {
   "cell_type": "code",
   "execution_count": 29,
   "id": "934b353e-cd06-480f-ab5a-503fa691a450",
   "metadata": {},
   "outputs": [],
   "source": [
    "# Save the cleaned dataset to a new CSV file\n",
    "df.to_csv('cleaned_data.csv', index=False)"
   ]
  }
 ],
 "metadata": {
  "kernelspec": {
   "display_name": "Python 3 (ipykernel)",
   "language": "python",
   "name": "python3"
  },
  "language_info": {
   "codemirror_mode": {
    "name": "ipython",
    "version": 3
   },
   "file_extension": ".py",
   "mimetype": "text/x-python",
   "name": "python",
   "nbconvert_exporter": "python",
   "pygments_lexer": "ipython3",
   "version": "3.12.1"
  }
 },
 "nbformat": 4,
 "nbformat_minor": 5
}
